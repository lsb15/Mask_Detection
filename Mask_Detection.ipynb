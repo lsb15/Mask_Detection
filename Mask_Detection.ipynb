{
  "nbformat": 4,
  "nbformat_minor": 0,
  "metadata": {
    "colab": {
      "provenance": []
    },
    "kernelspec": {
      "name": "python3",
      "display_name": "Python 3"
    },
    "language_info": {
      "name": "python"
    }
  },
  "cells": [
    {
      "cell_type": "code",
      "execution_count": null,
      "metadata": {
        "id": "tjDCp0g5sfur"
      },
      "outputs": [],
      "source": [
        "import ultralytics\n",
        "ultralytics.checks()"
      ]
    },
    {
      "cell_type": "code",
      "source": [
        "import os\n",
        "import random\n",
        "import shutil\n",
        "\n",
        "# Specify the root folder containing the dataset\n",
        "mask_root = ' path_to_dataset_folder '\n",
        "mask_path = 'mask_detection/'\n",
        "label_ = '.txt'\n",
        "img_ = '.jpg'\n",
        "\n",
        "# Retrieve file list of annotations\n",
        "file_list = [file for file in os.listdir(mask_root) if file.endswith(\".txt\")]\n",
        "\n",
        "# Create directory structure\n",
        "folder_list = ['mask_detection', 'mask_detection/train', 'mask_detection/val', 'mask_detection/train/images', \\\n",
        "                'mask_detection/train/labels', 'mask_detection/val/images', 'mask_detection/val/labels']\n",
        "for folder in folder_list:\n",
        "    if not os.path.exists(folder):\n",
        "        os.makedirs(folder)"
      ],
      "metadata": {
        "id": "ZqpIhFivskaw"
      },
      "execution_count": null,
      "outputs": []
    },
    {
      "cell_type": "code",
      "source": [
        "# Shuffle and split the dataset into training and validation sets\n",
        "random.shuffle(file_list)\n",
        "test_ratio = 0.1\n",
        "test_list = file_list[:int(len(file_list)*test_ratio)]\n",
        "train_list = file_list[int(len(file_list)*test_ratio):]\n",
        "\n",
        "# Copy files to respective directories for training and validation sets\n",
        "for i in test_list:\n",
        "    f_name = os.path.splitext(i)[0]\n",
        "    shutil.copyfile(os.path.join(mask_root,(f_name+img_)), os.path.join(mask_path, 'val/images', (f_name+img_)))\n",
        "    shutil.copyfile(os.path.join(mask_root,(f_name+label_)), os.path.join(mask_path, 'val/labels', (f_name+label_)))\n",
        "for i in train_list:\n",
        "    f_name = os.path.splitext(i)[0]\n",
        "    shutil.copyfile(os.path.join(mask_root,(f_name+img_)), os.path.join(mask_path, 'train/images', (f_name+img_)))\n",
        "    shutil.copyfile(os.path.join(mask_root, (f_name+label_)), os.path.join(mask_path, 'train/labels', (f_name+label_)))"
      ],
      "metadata": {
        "id": "PwgZJBmsskc2"
      },
      "execution_count": null,
      "outputs": []
    },
    {
      "cell_type": "code",
      "source": [
        "# Create and save configuration file in YAML format\n",
        "import yaml\n",
        "data =dict()\n",
        "\n",
        "data['train'] = 'path_to_mask_detection_folder + mask_detection/train'\n",
        "data['val'] = 'path_to_mask_detection_folder + mask_detection/val'\n",
        "data['test'] = 'path_to_mask_detection_folder + mask_detection/val'\n",
        "\n",
        "data['nc'] = 3 # Number of classes\n",
        "data['names'] =['OK','improperly', 'NO'] # Class names\n",
        "\n",
        "with open('mask_detection.yaml', 'w') as f:\n",
        "\tyaml.dump(data, f)"
      ],
      "metadata": {
        "id": "hzjkz4zXskfd"
      },
      "execution_count": null,
      "outputs": []
    },
    {
      "cell_type": "code",
      "source": [
        "# Train the model\n",
        "from ultralytics import YOLO\n",
        "model = YOLO('yolov8s.yaml')\n",
        "results = model.train(data ='mask_detection.yaml', epochs = 100, batch=32,device = 0  , patience=30, name='road_sign_s')"
      ],
      "metadata": {
        "id": "mSKWzFC5skh5"
      },
      "execution_count": null,
      "outputs": []
    },
    {
      "cell_type": "code",
      "source": [
        "from ultralytics import YOLO\n",
        "\n",
        "# Load the trained model\n",
        "model_path = 'path_to_trained_weights'\n",
        "model = YOLO(model_path)  # load a custom model\n",
        "\n",
        "# Validate the model\n",
        "metrics = model.val()  # no arguments needed, dataset and settings remembered\n",
        "\n",
        "# Validate the model\n",
        "print(\"map50-95\", metrics.box.map)\n",
        "print(\"map50\", metrics.box.map50)"
      ],
      "metadata": {
        "id": "1GgvSx2Oskj7"
      },
      "execution_count": null,
      "outputs": []
    },
    {
      "cell_type": "code",
      "source": [
        "# Perform inference on test images\n",
        "from ultralytics import YOLO\n",
        "import cv2\n",
        "import os\n",
        "from ultralytics.yolo.utils.plotting import Annotator\n",
        "import matplotlib.pyplot as plt\n",
        "import numpy as np\n",
        "\n",
        "model = YOLO('weights_file_path')\n",
        "\n",
        "root_folder = 'path_to_test_images_folder'\n",
        "result_folder = '../dataset/mask_detection/result'\n",
        "if not os.path.exists(result_folder):\n",
        "    os.makedirs(result_folder)\n",
        "\n",
        "test_img_list = os.listdir(root_folder)\n",
        "device = 'cpu'\n",
        "color_dict = [(0, 255, 0), (255, 0, 0), (0, 0, 255)]"
      ],
      "metadata": {
        "id": "9wDgO3MSskmH"
      },
      "execution_count": null,
      "outputs": []
    },
    {
      "cell_type": "code",
      "source": [
        "# Read and process each test image\n",
        "test_img = cv2.imread(os.path.join(root_folder, test_img_list[0]))\n",
        "img_src = cv2.cvtColor(test_img, cv2.COLOR_BGR2RGB)\n",
        "results = model(test_img)\n",
        "# Annotate the image with bounding boxes and labels\n",
        "for result in results:\n",
        "    annotator = Annotator(img_src)\n",
        "    boxes = result.boxes\n",
        "    for box in boxes:\n",
        "        b = box.xyxy[0]  # get box coordinates in (top, left, bottom, right) format\n",
        "        cls = box.cls\n",
        "        cls = box.cls\n",
        "        annotator.box_label(b, model.names[int(cls)], color_dict[int(cls)])\n",
        "img_src = annotator.result()\n",
        "# Display annotated image\n",
        "plt.imshow(img_src)\n",
        "plt.show()"
      ],
      "metadata": {
        "id": "qaEk1ExyskuT"
      },
      "execution_count": null,
      "outputs": []
    }
  ]
}